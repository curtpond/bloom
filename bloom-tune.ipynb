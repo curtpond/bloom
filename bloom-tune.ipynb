{
 "cells": [
  {
   "attachments": {},
   "cell_type": "markdown",
   "metadata": {},
   "source": [
    "#### Test OpenAI API"
   ]
  },
  {
   "cell_type": "code",
   "execution_count": 1,
   "metadata": {},
   "outputs": [],
   "source": [
    "import openai\n",
    "from langchain.llms import OpenAI\n",
    "import os"
   ]
  },
  {
   "cell_type": "code",
   "execution_count": 2,
   "metadata": {},
   "outputs": [],
   "source": [
    "# Set the API key\n",
    "openai.api_key = os.environ[\"OPENAI_API_KEY\"]"
   ]
  },
  {
   "cell_type": "code",
   "execution_count": 3,
   "metadata": {},
   "outputs": [],
   "source": [
    "llm = OpenAI(temperature=0.9)"
   ]
  },
  {
   "cell_type": "code",
   "execution_count": 4,
   "metadata": {},
   "outputs": [
    {
     "name": "stdout",
     "output_type": "stream",
     "text": [
      "\n",
      "\n",
      "1. Get up and move every hour - set an alarm or use a timer to remind yourself to get up and move around your home. Stretching, walking, or doing a few minutes of yoga or bodyweight exercises such as squats or planks can help to reduce stress and keep your body active. \n",
      "\n",
      "2. Maintain a healthy diet - Plan ahead and have healthy snacks on hand such as nuts, fruits, and vegetables. Keep meals simple and make sure to hydrate throughout the day with water or herbal teas.\n",
      "\n",
      "3. Take regular breaks - Step away from your workspace for a few minutes at least once an hour. Use this time to get some fresh air or take a short walk if possible. This can help to clear your mind, reset your concentration levels and improve focus.\n",
      "\n",
      "4. Practice good posture - Ensure that your workstation is ergonomically correct and that you are sitting with your back straight and your feet planted firmly on the floor. A good posture can help reduce strain on your body and help to keep your spine aligned.\n",
      "\n",
      "5. Get enough sleep - Make sure to create a consistent bedtime routine for yourself and stick to it. Lack of sleep can lead to reduced alertness and concentration levels\n"
     ]
    }
   ],
   "source": [
    "text = \"Create five health tips for people who are working from home.\"\n",
    "print(llm(text))"
   ]
  }
 ],
 "metadata": {
  "kernelspec": {
   "display_name": "huggingface",
   "language": "python",
   "name": "python3"
  },
  "language_info": {
   "codemirror_mode": {
    "name": "ipython",
    "version": 3
   },
   "file_extension": ".py",
   "mimetype": "text/x-python",
   "name": "python",
   "nbconvert_exporter": "python",
   "pygments_lexer": "ipython3",
   "version": "3.9.12"
  },
  "orig_nbformat": 4
 },
 "nbformat": 4,
 "nbformat_minor": 2
}
